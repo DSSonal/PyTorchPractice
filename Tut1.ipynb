{
 "cells": [
  {
   "cell_type": "code",
   "execution_count": 2,
   "source": [
    "import torch\n",
    "\n",
    "x=torch.empty(1) #1D \n",
    "print(x)\n",
    "\n",
    "y=torch.empty(2,3) #2D\n",
    "print(y)\n",
    "\n",
    "z=torch.zeros(5) \n",
    "print(z)\n",
    "\n",
    "a=torch.ones(4,4)\n",
    "print(a)"
   ],
   "outputs": [
    {
     "output_type": "stream",
     "name": "stdout",
     "text": [
      "tensor([-9.5170e+21])\n",
      "tensor([[-9.5170e+21,  4.5713e-41, -5.7350e+26],\n",
      "        [ 3.0921e-41,  4.4842e-44,  0.0000e+00]])\n",
      "tensor([0., 0., 0., 0., 0.])\n",
      "tensor([[1., 1., 1., 1.],\n",
      "        [1., 1., 1., 1.],\n",
      "        [1., 1., 1., 1.],\n",
      "        [1., 1., 1., 1.]])\n"
     ]
    }
   ],
   "metadata": {}
  }
 ],
 "metadata": {
  "orig_nbformat": 4,
  "language_info": {
   "name": "python"
  }
 },
 "nbformat": 4,
 "nbformat_minor": 2
}